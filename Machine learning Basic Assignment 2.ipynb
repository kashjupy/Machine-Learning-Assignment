{
 "cells": [
  {
   "cell_type": "code",
   "execution_count": null,
   "id": "2a50e92e",
   "metadata": {},
   "outputs": [],
   "source": [
    "\"\"\"1. What is the concept of human learning? Please give two examples.\n",
    "2. What different forms of human learning are there? Are there any machine learning equivalents?\n",
    "3. What is machine learning, and how does it work? What are the key responsibilities of machine learning?\n",
    "4. Define the terms \"penalty\" and \"reward\" in the context of reinforcement learning.\n",
    "5. Explain the term \"learning as a search\"?\n",
    "6. What are the various goals of machine learning? What is the relationship between these and human learning?\n",
    "7. Illustrate the various elements of machine learning using a real-life illustration.\n",
    "8. Provide an example of the abstraction method.\n",
    "9. What is the concept of generalization? What function does it play in the machine learning process?\n",
    "What is classification, exactly? What are the main distinctions between classification and regression?\n",
    "11. What is regression, and how does it work? Give an example of a real-world problem that was solved using regression.\n",
    "12. Describe the clustering mechanism in detail.\n",
    "13. Make brief observations on two of the following topics:\n",
    "i. Machine learning algorithms are used\n",
    "ii. Studying under supervision\n",
    "iii. Studying without supervision\n",
    "iv. Reinforcement learning is a form of learning based on positive reinforcement.\n",
    "\"\"\""
   ]
  },
  {
   "cell_type": "code",
   "execution_count": null,
   "id": "69e9961d",
   "metadata": {},
   "outputs": [],
   "source": [
    "11>Linear regression is one of the most commonly used techniques in statistics. It is used to quantify the relationship between one or more predictor variables and a response variable.\n",
    "\n",
    "The most basic form of linear is regression is known as simple linear regression, which is used to quantify the relationship between one predictor variable and one response variable.\n",
    "\n",
    "If we have more than one predictor variable then we can use multiple linear regression, which is used to quantify the relationship between several predictor variables and a response variable.\n",
    "\n",
    "This tutorial shares four different examples of when linear regression is used in real life.\n",
    "\n",
    "Linear Regression Real Life Example #1\n",
    "Businesses often use linear regression to understand the relationship between advertising spending and revenue.\n",
    "\n",
    "For example, they might fit a simple linear regression model using advertising spending as the predictor variable and revenue as the response variable. The regression model would take the following form:"
   ]
  },
  {
   "cell_type": "code",
   "execution_count": null,
   "id": "b7e930cf",
   "metadata": {},
   "outputs": [],
   "source": [
    "12>dividing the population or data points into a number of groups such that data points in the same groups are more similar to other data points in the same group than those in other groups. I"
   ]
  },
  {
   "cell_type": "code",
   "execution_count": null,
   "id": "afcc9711",
   "metadata": {},
   "outputs": [],
   "source": [
    "13>Reinforcement learning is an area of Machine Learning. It is about taking suitable action to maximize reward in a particular situation. It is employed by various software and machines to find the best possible behavior or path it should take in a specific situation."
   ]
  },
  {
   "cell_type": "code",
   "execution_count": null,
   "id": "ddb8ab15",
   "metadata": {},
   "outputs": [],
   "source": [
    "1> Human learning is same as we learn ABCD and other stuff\n",
    "2>The origins of machine learning are not easy to determine as it is a field that borrowed many ideas from various disciplines\n",
    "to evolve into what it is today. Some consider machine learning to have developed from statistics as most of its methods are\n",
    "statistically based, while others believe that one of the first few examples of machine learning is Arthur Samuel’s (1959) \n",
    "work in creating a \n",
    "checkers playing computer program that constantly updated its strategies to become better at winning \n",
    "3>Designing ML systems.\n",
    "Researching and implementing ML algorithms and tools.\n",
    "Selecting appropriate data sets.\n",
    "Picking appropriate data representation methods.\n",
    "Identifying differences in data distribution that affects model performance.\n",
    "Verifying data quality.\n",
    "4>A reinforcement learning algorithm, which may also be referred to as an agent, \n",
    "learns by interacting with its environment. The agent receives rewards by performing correctly and penalties\n",
    "for performing incorrectly. The agent learns without intervention from a human by maximizing its reward and minimizing \n",
    "its penalty.\n",
    "5>The learner searches through a space of hypotheses (we will explain what they are), to find the best one.\n",
    "6>o make the computers smarter, more intelligent. The more direct objective in this aspect is to develop systems\n",
    "(programs) for specific practical learning tasks in application domains. (\n",
    "    2) To dev elop computational models of human\n",
    "learning process and perform computer simulations.\n",
    "7>Image recognition is a well-known and widespread example of machine learning in the real world. It can identify an object as a digital image, based on the intensity of the pixels in black and white images or colour images. Real-world examples of image recognition: Label an x-ray as cancerous or not.\n",
    "8>"
   ]
  },
  {
   "cell_type": "code",
   "execution_count": null,
   "id": "677ee543",
   "metadata": {},
   "outputs": [],
   "source": [
    "# Python program showing\n",
    "# abstract base class work\n",
    "\n",
    "from abc import ABC, abstractmethod\n",
    "\n",
    "class Polygon(ABC):\n",
    "\n",
    "\t@abstractmethod\n",
    "\tdef noofsides(self):\n",
    "\t\tpass\n",
    "\n",
    "class Triangle(Polygon):\n",
    "\n",
    "\t# overriding abstract method\n",
    "\tdef noofsides(self):\n",
    "\t\tprint(\"I have 3 sides\")\n",
    "\n",
    "class Pentagon(Polygon):\n",
    "\n",
    "\t# overriding abstract method\n",
    "\tdef noofsides(self):\n",
    "\t\tprint(\"I have 5 sides\")\n",
    "\n",
    "class Hexagon(Polygon):\n",
    "\n",
    "\t# overriding abstract method\n",
    "\tdef noofsides(self):\n",
    "\t\tprint(\"I have 6 sides\")\n",
    "\n",
    "class Quadrilateral(Polygon):\n",
    "\n",
    "\t# overriding abstract method\n",
    "\tdef noofsides(self):\n",
    "\t\tprint(\"I have 4 sides\")\n",
    "\n",
    "# Driver code\n",
    "R = Triangle()\n",
    "R.noofsides()\n",
    "\n",
    "K = Quadrilateral()\n",
    "K.noofsides()\n",
    "\n",
    "R = Pentagon()\n",
    "R.noofsides()\n",
    "\n",
    "K = Hexagon()\n",
    "K.noofsides()\n"
   ]
  },
  {
   "cell_type": "code",
   "execution_count": null,
   "id": "22853045",
   "metadata": {},
   "outputs": [],
   "source": []
  }
 ],
 "metadata": {
  "kernelspec": {
   "display_name": "Python 3 (ipykernel)",
   "language": "python",
   "name": "python3"
  },
  "language_info": {
   "codemirror_mode": {
    "name": "ipython",
    "version": 3
   },
   "file_extension": ".py",
   "mimetype": "text/x-python",
   "name": "python",
   "nbconvert_exporter": "python",
   "pygments_lexer": "ipython3",
   "version": "3.9.7"
  }
 },
 "nbformat": 4,
 "nbformat_minor": 5
}
